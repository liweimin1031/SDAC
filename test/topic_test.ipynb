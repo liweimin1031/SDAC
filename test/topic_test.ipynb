{
 "cells": [
  {
   "cell_type": "code",
   "execution_count": null,
   "metadata": {
    "collapsed": true
   },
   "outputs": [],
   "source": []
  },
  {
   "cell_type": "code",
   "execution_count": 39,
   "metadata": {
    "collapsed": false
   },
   "outputs": [
    {
     "name": "stdout",
     "output_type": "stream",
     "text": [
      "[(0, 0.82799078529080783), (1, 0.088262414523597787), (2, 0.083746800185594217)]\n",
      "[(0, 0.053998686651743399), (1, 0.89692747337845991), (2, 0.049073839969796688)]\n",
      "[(0, 0.66533319771673594), (1, 0.26763503937109445), (2, 0.067031762912169598)]\n",
      "[(0, 0.86464094857030527), (1, 0.068495701429234418), (2, 0.066863350000460314)]\n",
      "[(0, 0.083660039166660219), (1, 0.83274114346211259), (2, 0.083598817371227152)]\n",
      "[(0, 0.16702726895874168), (1, 0.16702764988831481), (2, 0.6659450811529436)]\n",
      "[(0, 0.1113377419283665), (1, 0.11133799396830757), (2, 0.77732426410332589)]\n",
      "[(0, 0.083529414578123601), (1, 0.083529572626320797), (2, 0.83294101279555566)]\n",
      "[(0, 0.083655351827381652), (1, 0.087753199736572834), (2, 0.82859144843604549)]\n",
      "\n",
      "([(0.2327129201647975, u'system'), (0.16642591726154182, u'human'), (0.1658928742262899, u'eps'), (0.16587268722234685, u'interface'), (0.09455143677073137, u'computer'), (0.031427784070672427, u'user'), (0.023881268426238358, u'trees'), (0.02388120922126152, u'survey'), (0.023845563196242179, u'graph'), (0.023838311499888323, u'minors'), (0.023835013970310338, u'time'), (0.02383501396967946, u'response')], -29.361298688208812)\n",
      "([(0.23043256649264515, u'user'), (0.1666265477690563, u'response'), (0.16662654776355154, u'time'), (0.10038188181150073, u'system'), (0.095810377977307681, u'survey'), (0.09578182070151417, u'computer'), (0.024415372965306957, u'interface'), (0.024402947947642653, u'eps'), (0.023908209202456288, u'trees'), (0.023875171140004692, u'graph'), (0.023869365704828869, u'minors'), (0.023869190524184764, u'human')], -30.459910976876923)\n",
      "([(0.25643572881867366, u'graph'), (0.25636163302378645, u'trees'), (0.17948206194203412, u'minors'), (0.10193853309240786, u'survey'), (0.025755418460156318, u'computer'), (0.025748189678853284, u'user'), (0.025736148897563847, u'system'), (0.025717775197009646, u'interface'), (0.025709513627456004, u'human'), (0.025709389290124889, u'eps'), (0.025702803988591719, u'time'), (0.025702803983342151, u'response')], -33.991313914194023)\n",
      "\n",
      "-3.1057794021\n"
     ]
    }
   ],
   "source": [
    "import logging\n",
    "import unittest\n",
    "import os\n",
    "import os.path\n",
    "import tempfile\n",
    "import numbers\n",
    "\n",
    "import six\n",
    "import numpy\n",
    "import scipy.linalg\n",
    "\n",
    "from gensim.corpora import mmcorpus, Dictionary\n",
    "from gensim.models import ldamodel, ldamulticore\n",
    "from gensim import matutils\n",
    "\n",
    "\n",
    "# set up vars used in testing (\"Deerwester\" from the web tutorial)\n",
    "texts = [['human', 'interface', 'computer'],\n",
    " ['survey', 'user', 'computer', 'system', 'response', 'time'],\n",
    " ['eps', 'user', 'interface', 'system'],\n",
    " ['system', 'human', 'system', 'eps'],\n",
    " ['user', 'response', 'time'],\n",
    " ['trees'],\n",
    " ['graph', 'trees'],\n",
    " ['graph', 'minors', 'trees'],\n",
    " ['graph', 'minors', 'survey']]\n",
    "dictionary = Dictionary(texts)\n",
    "corpus = [dictionary.doc2bow(text) for text in texts]\n",
    "model= ldamodel.LdaModel(corpus, id2word=dictionary, num_topics=3, passes=100)\n",
    "doc_topics = model.get_document_topics(corpus)\n",
    "for topic in doc_topics:\n",
    "    print topic\n",
    "print \n",
    "doc_topics = model.top_topics(corpus)\n",
    "for topic in doc_topics:\n",
    "    print topic\n",
    "print \n",
    "perplexity=model.log_perplexity(corpus)\n",
    "print perplexity"
   ]
  },
  {
   "cell_type": "code",
   "execution_count": 37,
   "metadata": {
    "collapsed": false
   },
   "outputs": [
    {
     "name": "stdout",
     "output_type": "stream",
     "text": [
      "0\n",
      "[(u'response', 0.17542296187668918), (u'minors', 0.14264321848899594), (u'human', 0.13474324206938604), (u'survey', 0.10145196788565569), (u'computer', 0.078651300376400474), (u'user', 0.073353469852298736), (u'graph', 0.072581530400678038), (u'system', 0.068533684093763828), (u'eps', 0.046531101605557429), (u'trees', 0.038052544618355409), (u'interface', 0.035784837725763519), (u'time', 0.03225014100645552)]\n",
      "1\n",
      "[(u'interface', 0.22770022179797517), (u'human', 0.13230049610136088), (u'computer', 0.12885878777397097), (u'survey', 0.09616220333941991), (u'eps', 0.093621828467151891), (u'minors', 0.091765234249555225), (u'response', 0.084837723648123239), (u'graph', 0.050333640580335605), (u'user', 0.043794711861599903), (u'trees', 0.023375480506338548), (u'system', 0.01538881495157687), (u'time', 0.011860856722591618)]\n",
      "2\n",
      "[(u'trees', 0.17961929910811922), (u'user', 0.15686752458449571), (u'response', 0.13414606706630988), (u'interface', 0.11885112315090059), (u'survey', 0.1040044705657558), (u'computer', 0.085155427593190849), (u'graph', 0.080461905804444872), (u'human', 0.057571543416234196), (u'minors', 0.052894829286053234), (u'eps', 0.023348587331431723), (u'time', 0.0040533983629004039), (u'system', 0.0030258237301635823)]\n",
      "3\n",
      "[(u'eps', 0.26040339498053078), (u'time', 0.11142476036802411), (u'human', 0.1108221277888941), (u'user', 0.1030687035275509), (u'minors', 0.10023980951289553), (u'response', 0.092753583479367047), (u'interface', 0.060576080957844933), (u'trees', 0.051408724752174305), (u'survey', 0.036111682138623563), (u'system', 0.030485645684333096), (u'computer', 0.021383906050731139), (u'graph', 0.021321580759030297)]\n",
      "4\n",
      "[(u'graph', 0.25283994853299996), (u'system', 0.18020765781091777), (u'eps', 0.1471536198046676), (u'trees', 0.10373804130099817), (u'interface', 0.096028143177488284), (u'minors', 0.068650943513727719), (u'survey', 0.057061065827581262), (u'human', 0.032293000824915812), (u'computer', 0.027954524958962761), (u'time', 0.019746365045393621), (u'user', 0.0099357594779256857), (u'response', 0.0043909297244213996)]\n",
      "[  2.51632264e-01   1.88329159e-01   1.40982075e-01   1.06680643e-01\n",
      "   7.95291872e-02   5.95348212e-02   4.43124269e-02   3.31655761e-02\n",
      "   2.46883459e-02   1.83699221e-02   1.36721628e-02   1.02391040e-02\n",
      "   7.61528169e-03   5.64425533e-03   4.15050233e-03   3.03801316e-03\n",
      "   2.25319610e-03   1.65424939e-03   1.21349750e-03   8.89231968e-04\n",
      "   6.53967585e-04   4.77933791e-04   3.48452815e-04   2.54474079e-04\n",
      "   1.85109432e-04   1.34348532e-04   9.77386650e-05   7.12229812e-05\n",
      "   5.12149605e-05   3.71916571e-05   2.69562093e-05   1.93081786e-05\n",
      "   1.38554290e-05   9.92524704e-06   7.07122880e-06   5.06069255e-06\n",
      "   3.58842235e-06   2.54648518e-06   1.81309118e-06   1.28180117e-06\n",
      "   9.04925298e-07   6.37384508e-07   4.48031590e-07   3.11287436e-07\n",
      "   2.19787369e-07   1.53040935e-07   1.06778020e-07   7.47734515e-08\n",
      "   5.16641546e-08   3.59935978e-08   2.51980528e-08   1.72648075e-08\n",
      "   1.20252416e-08   8.23066719e-09   5.70034348e-09   3.90435141e-09\n",
      "   2.66716475e-09   1.82338768e-09   1.24496204e-09   8.47345852e-10\n",
      "   5.76718450e-10   3.90113116e-10   2.63625329e-10   1.77748741e-10\n",
      "   1.20257442e-10   8.02741620e-11   5.39685666e-11   3.59837612e-11\n",
      "   2.41495646e-11   1.61054695e-11   1.06859421e-11   7.17167075e-12\n",
      "   4.73201115e-12   3.11611071e-12   2.07072835e-12   1.35843673e-12\n",
      "   8.99498833e-13   5.85326027e-13   3.82893710e-13   2.49818158e-13\n",
      "   1.63181836e-13   1.05995026e-13   6.89577958e-14   4.49526552e-14\n",
      "   2.87762590e-14   1.84371748e-14   1.19187276e-14   7.60485738e-15\n",
      "   4.84376016e-15   3.04056904e-15   1.93216838e-15   1.21030380e-15\n",
      "   7.62658300e-16   4.74767963e-16   2.94845149e-16   1.84982420e-16\n",
      "   1.14517074e-16   7.10896764e-17   4.40443565e-17   2.69156004e-17\n",
      "   1.65580000e-17   1.00502487e-17   6.09795144e-18   3.70993971e-18\n",
      "   2.22587890e-18   1.33735122e-18   8.07517988e-19   4.81456181e-19\n",
      "   2.86780620e-19   1.70914485e-19   1.01110927e-19   5.96040401e-20\n",
      "   3.49619252e-20   2.07227271e-20   1.20400179e-20   7.02133965e-21\n",
      "   4.05623493e-21   2.34668958e-21   1.33877162e-21   7.68686971e-22\n",
      "   4.36816834e-22   2.49364181e-22   1.41797320e-22   7.93475158e-23\n",
      "   4.43970178e-23   2.47856169e-23   1.39502589e-23   7.66899597e-24\n",
      "   4.25841799e-24   2.34949183e-24   1.29083308e-24   6.96113132e-25\n",
      "   3.75117750e-25   2.03100513e-25   1.09841991e-25   5.90767924e-26\n",
      "   3.15161050e-26   1.67601541e-26   8.76854558e-27   4.56445797e-27\n",
      "   2.40860269e-27   1.24080485e-27   6.46794166e-28   3.31452262e-28\n",
      "   1.70051424e-28   8.74559665e-29   4.45448676e-29   2.26104282e-29\n",
      "   1.14290009e-29   1.14002014e-29] [[ 0.03578484  0.0786513   0.13474324 ...,  0.03805254  0.07258153\n",
      "   0.14264322]\n",
      " [ 0.22770022  0.12885879  0.1323005  ...,  0.02337548  0.05033364\n",
      "   0.09176523]\n",
      " [ 0.11885112  0.08515543  0.05757154 ...,  0.1796193   0.08046191\n",
      "   0.05289483]\n",
      " ..., \n",
      " [ 0.04742457  0.13919924  0.21866839 ...,  0.11149708  0.09198807\n",
      "   0.01224207]\n",
      " [ 0.08436949  0.00847486  0.01774563 ...,  0.05166891  0.06832517\n",
      "   0.22944252]\n",
      " [ 0.08748602  0.02805122  0.16667729 ...,  0.11672937  0.19986348\n",
      "   0.00924734]]\n"
     ]
    }
   ],
   "source": [
    "import logging\n",
    "import unittest\n",
    "import os\n",
    "import os.path\n",
    "import tempfile\n",
    "import numbers\n",
    "\n",
    "import six\n",
    "import numpy\n",
    "import scipy.linalg\n",
    "\n",
    "from gensim.corpora import mmcorpus, Dictionary\n",
    "from gensim.models import ldamodel, ldamulticore, hdpmodel\n",
    "from gensim import matutils\n",
    "\n",
    "\n",
    "\n",
    "# set up vars used in testing (\"Deerwester\" from the web tutorial)\n",
    "texts = [['human', 'interface', 'computer'],\n",
    " ['survey', 'user', 'computer', 'system', 'response', 'time'],\n",
    " ['eps', 'user', 'interface', 'system'],\n",
    " ['system', 'human', 'system', 'eps'],\n",
    " ['user', 'response', 'time'],\n",
    " ['trees'],\n",
    " ['graph', 'trees'],\n",
    " ['graph', 'minors', 'trees'],\n",
    " ['graph', 'minors', 'survey']]\n",
    "dictionary = Dictionary(texts)\n",
    "corpus = [dictionary.doc2bow(text) for text in texts]\n",
    "model = hdpmodel.HdpModel(corpus, id2word=dictionary)\n",
    "topics = model.show_topics(formatted=False, num_topics=5, num_words=20)\n",
    "for topic_no, topic in topics:\n",
    "    print topic_no \n",
    "    print topic\n",
    "\n",
    "\n",
    "a,b=model.hdp_to_lda()\n",
    "print a,b\n"
   ]
  },
  {
   "cell_type": "code",
   "execution_count": null,
   "metadata": {
    "collapsed": true
   },
   "outputs": [],
   "source": []
  },
  {
   "cell_type": "code",
   "execution_count": null,
   "metadata": {
    "collapsed": true
   },
   "outputs": [],
   "source": []
  }
 ],
 "metadata": {
  "kernelspec": {
   "display_name": "Python 2",
   "language": "python",
   "name": "python2"
  },
  "language_info": {
   "codemirror_mode": {
    "name": "ipython",
    "version": 2
   },
   "file_extension": ".py",
   "mimetype": "text/x-python",
   "name": "python",
   "nbconvert_exporter": "python",
   "pygments_lexer": "ipython2",
   "version": "2.7.11"
  }
 },
 "nbformat": 4,
 "nbformat_minor": 0
}
