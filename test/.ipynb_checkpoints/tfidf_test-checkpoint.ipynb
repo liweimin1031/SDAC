{
 "cells": [
  {
   "cell_type": "code",
   "execution_count": 48,
   "metadata": {
    "collapsed": false
   },
   "outputs": [
    {
     "name": "stdout",
     "output_type": "stream",
     "text": [
      "sum term: 21\n",
      "[(0, u'abc'), (13, u'management'), (7, u'system'), (1, u'lab'), (14, u'eps'), (2, u'machine'), (3, u'applications'), (4, u'computer'), (8, u'survey'), (9, u'user'), (5, u'human'), (10, u'time'), (6, u'interface'), (11, u'opinion'), (12, u'response')]\n",
      "applications\n",
      "[(0, u'management'), (1, u'eps'), (2, u'lab'), (3, u'machine'), (4, u'applications'), (5, u'abc'), (6, u'survey'), (7, u'human'), (8, u'time'), (9, u'interface'), (10, u'opinion'), (11, u'response')]\n",
      "[[(2, 1), (3, 1), (4, 1), (5, 1), (7, 1), (9, 1)], [(6, 1), (8, 1), (10, 1), (11, 1)], [(0, 1), (1, 1), (9, 1)]]\n"
     ]
    }
   ],
   "source": [
    "from gensim import corpora, models\n",
    "documents=[\"Human machine interface for lab abc computer applications\",\n",
    "             \"A survey of user opinion of computer system response time\",\n",
    "             \"The EPS user system interface computer management system\"]\n",
    "stoplist = set('for a of the and to in'.split())\n",
    "texts = [[word for word in document.lower().split() if word not in stoplist]\n",
    "         for document in documents]\n",
    "sum=0\n",
    "for text in texts:\n",
    "    sum+=len(text)\n",
    "print 'sum term: %d' %sum\n",
    "dictionary = corpora.Dictionary(texts)   # 生成词典\n",
    "print dictionary.items()\n",
    "print dictionary.get(3)\n",
    "dictionary.filter_n_most_frequent(3)\n",
    "dictionary.compactify()\n",
    "print dictionary.items()\n",
    "corpus = [dictionary.doc2bow(text) for text in texts]\n",
    "print corpus\n",
    "\n"
   ]
  },
  {
   "cell_type": "code",
   "execution_count": null,
   "metadata": {
    "collapsed": true
   },
   "outputs": [],
   "source": [
    "\n",
    "\n",
    "[(0, u'abc'), (13, u'management'), (7, u'system'), (1, u'lab'), (14, u'eps'), (2, u'machine'), (3, u'applications'), (4, u'computer'), (8, u'survey'), \n",
    " (9, u'user'), (5, u'human'), (10, u'time'), (6, u'interface'), (11, u'opinion'), (12, u'response')]\n",
    "\n",
    "[(0, u'management'), (1, u'eps'), (2, u'lab'), (3, u'machine'), (4, u'applications'), (5, u'abc'), (6, u'survey'), (7, u'human'), (8, u'time'), \n",
    " (9, u'opinion'), (10, u'response')]\n"
   ]
  },
  {
   "cell_type": "code",
   "execution_count": 89,
   "metadata": {
    "collapsed": false
   },
   "outputs": [
    {
     "name": "stdout",
     "output_type": "stream",
     "text": [
      "sum term: 30\n",
      "{0: 2, 1: 2, 2: 2, 3: 2, 4: 2, 5: 2, 6: 4, 7: 3, 8: 2, 9: 3, 10: 3, 11: 2}\n",
      "{u'minors': 11, u'graph': 10, u'system': 6, u'trees': 9, u'eps': 8, u'computer': 1, u'survey': 5, u'user': 7, u'human': 2, u'time': 4, u'interface': 0, u'response': 3}\n",
      "[[(0, 1), (1, 1), (2, 1)], [(1, 1), (3, 1), (4, 1), (5, 1), (6, 1), (7, 1)], [(0, 1), (6, 1), (7, 1), (8, 1)], [(2, 1), (6, 2), (8, 1)], [(3, 1), (4, 1), (7, 1)], [(6, 1), (9, 1)], [(9, 1), (10, 1)], [(9, 1), (10, 1), (11, 1)], [(5, 1), (10, 1), (11, 1)]]\n",
      "{0: 2, 1: 2, 2: 2, 3: 2, 4: 2, 5: 2, 6: 4, 7: 3, 8: 2, 9: 3, 10: 3, 11: 2}\n"
     ]
    }
   ],
   "source": [
    "from gensim.corpora import Dictionary\n",
    "texts = [\n",
    "                ['human', 'interface', 'computer'],\n",
    "                ['survey', 'user', 'computer', 'system', 'response', 'time'],\n",
    "                ['eps', 'user', 'interface', 'system'],\n",
    "                ['system', 'human', 'system', 'eps'],\n",
    "                ['user', 'response', 'time'],\n",
    "                ['trees','system'],\n",
    "                ['graph', 'trees'],\n",
    "                ['graph', 'minors', 'trees'],\n",
    "                ['graph', 'minors', 'survey']]\n",
    "dtexts = [['human'], ['human'], ['human','human'], ['human']]\n",
    "\n",
    "sum=0\n",
    "for text in texts:\n",
    "    sum+=len(text)\n",
    "print 'sum term: %d' %sum\n",
    "d = Dictionary(texts)   # 生成词典\n",
    "print d.dfs\n",
    "print d.token2id\n",
    "#d.filter_extremes(no_below=3, no_above=1.0)\n",
    "#print d.dfs\n",
    "corpus = [d.doc2bow(text) for text in texts]\n",
    "print corpus\n",
    "\n",
    "dictionary_from_corpus =Dictionary.from_corpus(corpus,id2word=d)\n",
    "print dictionary_from_corpus.dfs"
   ]
  },
  {
   "cell_type": "code",
   "execution_count": 134,
   "metadata": {
    "collapsed": false
   },
   "outputs": [
    {
     "name": "stdout",
     "output_type": "stream",
     "text": [
      "{0: 2.1699250014423126, 1: 2.1699250014423126, 2: 2.1699250014423126, 3: 2.1699250014423126, 4: 2.1699250014423126, 5: 2.1699250014423126, 6: 1.5849625007211563, 7: 1.5849625007211563, 8: 2.1699250014423126, 9: 1.5849625007211563, 10: 1.5849625007211563, 11: 2.1699250014423126}\n",
      "{0: 1.0, 1: 1.0, 2: 1.0, 3: 2.0, 4: 2.0, 5: 2.0, 6: 0.4150374992788437, 7: 1.0, 8: 1.0}\n",
      "\n",
      "[[(0, 0.5773502691896258), (1, 0.5773502691896258), (2, 0.5773502691896258)], [(1, 0.2656320682560318), (3, 0.5312641365120636), (4, 0.5312641365120636), (5, 0.5312641365120636), (6, 0.11024726933725056), (7, 0.2656320682560318)], [(0, 0.5614561943922499), (6, 0.23302537487517574), (7, 0.5614561943922499), (8, 0.5614561943922499)], [(2, 0.6098213431343381), (6, 0.5061974505226827), (8, 0.6098213431343381)]]\n",
      "\n",
      "[[(0, 0.5773502691896257), (1, 0.5773502691896257), (2, 0.5773502691896257)], [(1, 0.44424552527467476), (3, 0.44424552527467476), (4, 0.44424552527467476), (5, 0.44424552527467476), (6, 0.3244870206138555), (7, 0.3244870206138555)], [(0, 0.5710059809418182), (6, 0.4170757362022777), (7, 0.4170757362022777), (8, 0.5710059809418182)], [(2, 0.49182558987264147), (6, 0.7184811607083769), (8, 0.49182558987264147)]]\n"
     ]
    }
   ],
   "source": [
    "from gensim.corpora import mmcorpus, Dictionary\n",
    "from gensim.models import tfidfmodel\n",
    "from gensim import matutils\n",
    "\n",
    "texts = [['human', 'interface', 'computer'],\n",
    " ['survey', 'user', 'computer', 'system', 'response', 'time'],\n",
    " ['eps', 'user', 'interface', 'system'],\n",
    " ['system', 'human', 'system', 'eps'],\n",
    " ['user', 'response', 'time'],\n",
    " ['trees'],\n",
    " ['graph', 'trees'],\n",
    " ['graph', 'minors', 'trees'],\n",
    " ['graph', 'minors', 'survey']]\n",
    "\n",
    "dtexts = [ ['human', 'interface', 'computer'],\n",
    " ['survey', 'user', 'computer', 'system', 'response', 'time'],\n",
    " ['eps', 'user', 'interface', 'system'],\n",
    " ['system', 'human', 'system', 'eps']]\n",
    "\n",
    "dictionary = Dictionary(texts)\n",
    "d_dict=Dictionary(dtexts)\n",
    "corpus = [dictionary.doc2bow(text) for text in texts]\n",
    "d_corpus = [d_dict.doc2bow(text) for text in dtexts]\n",
    "#print corpus\n",
    "#print d_corpus\n",
    "\n",
    "model1 = tfidfmodel.TfidfModel(corpus)\n",
    "model2=tfidfmodel.TfidfModel(d_corpus)\n",
    "print model1.idfs\n",
    "print model2.idfs\n",
    "tfidf=model1[corpus]\n",
    "d_tfidf=model2[d_corpus]\n",
    "c_tfidf=model1[d_corpus]\n",
    "#print \n",
    "#print list(tfidf)\n",
    "print \n",
    "print list(d_tfidf)\n",
    "print \n",
    "print list(c_tfidf)\n"
   ]
  },
  {
   "cell_type": "code",
   "execution_count": null,
   "metadata": {
    "collapsed": true
   },
   "outputs": [],
   "source": [
    "from gensim.corpora import mmcorpus, Dictionary\n",
    "from gensim.models import tfidfmodel\n",
    "from gensim import matutils\n",
    "\n",
    "texts = [['human', 'interface', 'computer'],\n",
    " ['survey', 'user', 'computer', 'system', 'response', 'time'],\n",
    " ['eps', 'user', 'interface', 'system'],\n",
    " ['system', 'human', 'system', 'eps'],\n",
    " ['user', 'response', 'time'],\n",
    " ['trees'],\n",
    " ['graph', 'trees'],\n",
    " ['graph', 'minors', 'trees'],\n",
    " ['graph', 'minors', 'survey']]\n",
    "\n",
    "dtexts = [ ['human', 'interface', 'computer'],\n",
    " ['survey', 'user', 'computer', 'system', 'response', 'time'],\n",
    " ['eps', 'user', 'interface', 'system'],\n",
    " ['system', 'human', 'system', 'eps']]\n",
    "\n",
    "dictionary = Dictionary(texts)\n",
    "d_dict=Dictionary(dtexts)\n",
    "corpus = [dictionary.doc2bow(text) for text in texts]\n",
    "d_corpus = [dictionary.doc2bow(text) for text in dtexts]\n",
    "#print corpus\n",
    "#print d_corpus\n",
    "\n",
    "model1 = tfidfmodel.TfidfModel(corpus)\n",
    "model2=tfidfmodel.TfidfModel(d_corpus)\n",
    "print model1.idfs\n",
    "print model2.idfs\n",
    "tfidf=model1[corpus]\n",
    "d_tfidf=model2[d_corpus]\n",
    "c_tfidf=model1[d_corpus]\n",
    "#print \n",
    "#print list(tfidf)\n",
    "print \n",
    "print list(d_tfidf)\n",
    "print \n",
    "print list(c_tfidf)\n"
   ]
  }
 ],
 "metadata": {
  "kernelspec": {
   "display_name": "Python 2",
   "language": "python",
   "name": "python2"
  },
  "language_info": {
   "codemirror_mode": {
    "name": "ipython",
    "version": 2
   },
   "file_extension": ".py",
   "mimetype": "text/x-python",
   "name": "python",
   "nbconvert_exporter": "python",
   "pygments_lexer": "ipython2",
   "version": "2.7.11"
  }
 },
 "nbformat": 4,
 "nbformat_minor": 0
}
