{
 "cells": [
  {
   "cell_type": "code",
   "execution_count": 30,
   "metadata": {
    "collapsed": false
   },
   "outputs": [
    {
     "name": "stdout",
     "output_type": "stream",
     "text": [
      "['abc\\nqwer', 'hello\\nworld', 'lol\\nlllll\\ndd']\n"
     ]
    }
   ],
   "source": [
    "import os\n",
    "corpus=[]\n",
    "def find_file(arg,dirname,files):\n",
    "    for file in files:\n",
    "        file_path=os.path.join(dirname,file)\n",
    "        if os.path.isfile(file_path):\n",
    "            with open(file_path)as f:\n",
    "                corpus.append(f.read())\n",
    "\n",
    "os.path.walk(\".\\data\",find_file,())     \n",
    "print corpus"
   ]
  },
  {
   "cell_type": "code",
   "execution_count": 47,
   "metadata": {
    "collapsed": false
   },
   "outputs": [
    {
     "name": "stdout",
     "output_type": "stream",
     "text": [
      "[2, 2, 2, 1, 1, 1, 3, 2, 2]\n",
      "{1: 3, 2: 5, 3: 1}\n",
      "[(1, 3), (2, 5), (3, 1)]\n"
     ]
    }
   ],
   "source": [
    "from collections import Counter\n",
    "import matplotlib.pyplot as plt  \n",
    "a={0: 2, 1: 2, 2: 2, 3: 1, 4: 1, 5: 1, 6: 3, 7: 2, 8: 2}\n",
    "b= a.values()\n",
    "print b\n",
    "c=dict(Counter(b))\n",
    "\n",
    "print c\n",
    "d=sorted(c.iteritems(), key=lambda d:d[0], reverse = False)\n",
    "print d\n",
    "x= [x[0] for x in d]\n",
    "y= [y[1] for y in d]\n",
    "plt.plot(x,y,color=\"red\",linewidth=2)\n",
    "plt.show()"
   ]
  },
  {
   "cell_type": "code",
   "execution_count": null,
   "metadata": {
    "collapsed": true
   },
   "outputs": [],
   "source": []
  }
 ],
 "metadata": {
  "kernelspec": {
   "display_name": "Python 2",
   "language": "python",
   "name": "python2"
  },
  "language_info": {
   "codemirror_mode": {
    "name": "ipython",
    "version": 2
   },
   "file_extension": ".py",
   "mimetype": "text/x-python",
   "name": "python",
   "nbconvert_exporter": "python",
   "pygments_lexer": "ipython2",
   "version": "2.7.11"
  }
 },
 "nbformat": 4,
 "nbformat_minor": 0
}
